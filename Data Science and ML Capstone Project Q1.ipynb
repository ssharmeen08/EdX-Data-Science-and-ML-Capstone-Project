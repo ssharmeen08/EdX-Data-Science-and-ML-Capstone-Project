{
 "cells": [
  {
   "cell_type": "code",
   "execution_count": 1,
   "metadata": {},
   "outputs": [
    {
     "data": {
      "text/html": [
       "<div>\n",
       "<style scoped>\n",
       "    .dataframe tbody tr th:only-of-type {\n",
       "        vertical-align: middle;\n",
       "    }\n",
       "\n",
       "    .dataframe tbody tr th {\n",
       "        vertical-align: top;\n",
       "    }\n",
       "\n",
       "    .dataframe thead th {\n",
       "        text-align: right;\n",
       "    }\n",
       "</style>\n",
       "<table border=\"1\" class=\"dataframe\">\n",
       "  <thead>\n",
       "    <tr style=\"text-align: right;\">\n",
       "      <th></th>\n",
       "      <th>created_date</th>\n",
       "      <th>unique_key</th>\n",
       "      <th>complaint_type</th>\n",
       "      <th>incident_zip</th>\n",
       "      <th>incident_address</th>\n",
       "      <th>street_name</th>\n",
       "      <th>address_type</th>\n",
       "      <th>city</th>\n",
       "      <th>resolution_description</th>\n",
       "      <th>borough</th>\n",
       "      <th>latitude</th>\n",
       "      <th>longitude</th>\n",
       "      <th>closed_date</th>\n",
       "      <th>location_type</th>\n",
       "      <th>status</th>\n",
       "    </tr>\n",
       "  </thead>\n",
       "  <tbody>\n",
       "    <tr>\n",
       "      <th>0</th>\n",
       "      <td>2020-01-28T20:26:11.000</td>\n",
       "      <td>45492325</td>\n",
       "      <td>HEAT/HOT WATER</td>\n",
       "      <td>10462.0</td>\n",
       "      <td>2040 BRONXDALE AVENUE</td>\n",
       "      <td>BRONXDALE AVENUE</td>\n",
       "      <td>ADDRESS</td>\n",
       "      <td>BRONX</td>\n",
       "      <td>The complaint you filed is a duplicate of a co...</td>\n",
       "      <td>BRONX</td>\n",
       "      <td>40.850795</td>\n",
       "      <td>-73.866537</td>\n",
       "      <td>NaN</td>\n",
       "      <td>RESIDENTIAL BUILDING</td>\n",
       "      <td>Open</td>\n",
       "    </tr>\n",
       "    <tr>\n",
       "      <th>1</th>\n",
       "      <td>2020-01-28T15:57:56.000</td>\n",
       "      <td>45493601</td>\n",
       "      <td>UNSANITARY CONDITION</td>\n",
       "      <td>11368.0</td>\n",
       "      <td>55-02 98 STREET</td>\n",
       "      <td>98 STREET</td>\n",
       "      <td>ADDRESS</td>\n",
       "      <td>Corona</td>\n",
       "      <td>The following complaint conditions are still o...</td>\n",
       "      <td>QUEENS</td>\n",
       "      <td>40.738846</td>\n",
       "      <td>-73.862785</td>\n",
       "      <td>NaN</td>\n",
       "      <td>RESIDENTIAL BUILDING</td>\n",
       "      <td>Open</td>\n",
       "    </tr>\n",
       "    <tr>\n",
       "      <th>2</th>\n",
       "      <td>2020-01-28T04:49:03.000</td>\n",
       "      <td>45494360</td>\n",
       "      <td>HEAT/HOT WATER</td>\n",
       "      <td>11225.0</td>\n",
       "      <td>181 HAWTHORNE STREET</td>\n",
       "      <td>HAWTHORNE STREET</td>\n",
       "      <td>ADDRESS</td>\n",
       "      <td>BROOKLYN</td>\n",
       "      <td>The Department of Housing Preservation and Dev...</td>\n",
       "      <td>BROOKLYN</td>\n",
       "      <td>40.657592</td>\n",
       "      <td>-73.954469</td>\n",
       "      <td>2020-01-28T21:37:27.000</td>\n",
       "      <td>RESIDENTIAL BUILDING</td>\n",
       "      <td>Closed</td>\n",
       "    </tr>\n",
       "    <tr>\n",
       "      <th>3</th>\n",
       "      <td>2020-01-28T18:07:16.000</td>\n",
       "      <td>45493438</td>\n",
       "      <td>PLUMBING</td>\n",
       "      <td>10454.0</td>\n",
       "      <td>514 EAST  138 STREET</td>\n",
       "      <td>EAST  138 STREET</td>\n",
       "      <td>ADDRESS</td>\n",
       "      <td>BRONX</td>\n",
       "      <td>The following complaint conditions are still o...</td>\n",
       "      <td>BRONX</td>\n",
       "      <td>40.807416</td>\n",
       "      <td>-73.918919</td>\n",
       "      <td>NaN</td>\n",
       "      <td>RESIDENTIAL BUILDING</td>\n",
       "      <td>Open</td>\n",
       "    </tr>\n",
       "    <tr>\n",
       "      <th>4</th>\n",
       "      <td>2020-01-28T14:10:04.000</td>\n",
       "      <td>45492347</td>\n",
       "      <td>HEAT/HOT WATER</td>\n",
       "      <td>10463.0</td>\n",
       "      <td>2800 BAILEY AVENUE</td>\n",
       "      <td>BAILEY AVENUE</td>\n",
       "      <td>ADDRESS</td>\n",
       "      <td>BRONX</td>\n",
       "      <td>The complaint you filed is a duplicate of a co...</td>\n",
       "      <td>BRONX</td>\n",
       "      <td>40.873356</td>\n",
       "      <td>-73.905554</td>\n",
       "      <td>NaN</td>\n",
       "      <td>RESIDENTIAL BUILDING</td>\n",
       "      <td>Open</td>\n",
       "    </tr>\n",
       "  </tbody>\n",
       "</table>\n",
       "</div>"
      ],
      "text/plain": [
       "              created_date  unique_key        complaint_type  incident_zip  \\\n",
       "0  2020-01-28T20:26:11.000    45492325        HEAT/HOT WATER       10462.0   \n",
       "1  2020-01-28T15:57:56.000    45493601  UNSANITARY CONDITION       11368.0   \n",
       "2  2020-01-28T04:49:03.000    45494360        HEAT/HOT WATER       11225.0   \n",
       "3  2020-01-28T18:07:16.000    45493438              PLUMBING       10454.0   \n",
       "4  2020-01-28T14:10:04.000    45492347        HEAT/HOT WATER       10463.0   \n",
       "\n",
       "        incident_address       street_name address_type      city  \\\n",
       "0  2040 BRONXDALE AVENUE  BRONXDALE AVENUE      ADDRESS     BRONX   \n",
       "1        55-02 98 STREET         98 STREET      ADDRESS    Corona   \n",
       "2   181 HAWTHORNE STREET  HAWTHORNE STREET      ADDRESS  BROOKLYN   \n",
       "3   514 EAST  138 STREET  EAST  138 STREET      ADDRESS     BRONX   \n",
       "4     2800 BAILEY AVENUE     BAILEY AVENUE      ADDRESS     BRONX   \n",
       "\n",
       "                              resolution_description   borough   latitude  \\\n",
       "0  The complaint you filed is a duplicate of a co...     BRONX  40.850795   \n",
       "1  The following complaint conditions are still o...    QUEENS  40.738846   \n",
       "2  The Department of Housing Preservation and Dev...  BROOKLYN  40.657592   \n",
       "3  The following complaint conditions are still o...     BRONX  40.807416   \n",
       "4  The complaint you filed is a duplicate of a co...     BRONX  40.873356   \n",
       "\n",
       "   longitude              closed_date         location_type  status  \n",
       "0 -73.866537                      NaN  RESIDENTIAL BUILDING    Open  \n",
       "1 -73.862785                      NaN  RESIDENTIAL BUILDING    Open  \n",
       "2 -73.954469  2020-01-28T21:37:27.000  RESIDENTIAL BUILDING  Closed  \n",
       "3 -73.918919                      NaN  RESIDENTIAL BUILDING    Open  \n",
       "4 -73.905554                      NaN  RESIDENTIAL BUILDING    Open  "
      ]
     },
     "execution_count": 1,
     "metadata": {},
     "output_type": "execute_result"
    }
   ],
   "source": [
    "import pandas as pd\n",
    "import numpy as np\n",
    "import scipy\n",
    "import os\n",
    "import matplotlib.pyplot as plt\n",
    "import seaborn as sns\n",
    "\n",
    "df = pd.read_csv('./data/NYC311data.csv')\n",
    "df.head()\n"
   ]
  },
  {
   "cell_type": "code",
   "execution_count": 2,
   "metadata": {},
   "outputs": [],
   "source": []
  },
  {
   "cell_type": "code",
   "execution_count": 4,
   "metadata": {},
   "outputs": [
    {
     "data": {
      "text/plain": [
       "True"
      ]
     },
     "execution_count": 4,
     "metadata": {},
     "output_type": "execute_result"
    }
   ],
   "source": [
    "# Number of rows and columns in the dataframe\n",
    "df.shape\n",
    "\n",
    "# To examine the types of the column labels\n",
    "all(isinstance(column, str) for column in df.columns)"
   ]
  },
  {
   "cell_type": "code",
   "execution_count": 5,
   "metadata": {},
   "outputs": [
    {
     "data": {
      "text/plain": [
       "HEATING                   267755\n",
       "GENERAL CONSTRUCTION      141262\n",
       "PLUMBING                  133818\n",
       "HEAT/HOT WATER            109552\n",
       "PAINT - PLASTER           103557\n",
       "NONCONST                   75979\n",
       "HPD Literature Request     52830\n",
       "ELECTRIC                   47398\n",
       "APPLIANCE                  19822\n",
       "UNSANITARY CONDITION       16763\n",
       "WATER LEAK                  7066\n",
       "PAINT/PLASTER               6733\n",
       "DOOR/WINDOW                 6103\n",
       "GENERAL                     5099\n",
       "FLOORING/STAIRS             2592\n",
       "SAFETY                      1711\n",
       "CONSTRUCTION                1467\n",
       "ELEVATOR                     321\n",
       "OUTSIDE BUILDING             128\n",
       "Unsanitary Condition          30\n",
       "General                       10\n",
       "Safety                         2\n",
       "AGENCY                         1\n",
       "Electric                       1\n",
       "Name: complaint_type, dtype: int64"
      ]
     },
     "execution_count": 5,
     "metadata": {},
     "output_type": "execute_result"
    }
   ],
   "source": [
    "# Which type of complaint should the Department of Housing Preservation and Development of New York City focus on first?\n",
    "# \n",
    "\n",
    "df['complaint_type'].value_counts()\n",
    "\n",
    "# the correct Complaint Type that the Department of Housing Preservation and Development of New York City should focus on is Heating\n"
   ]
  },
  {
   "cell_type": "code",
   "execution_count": 26,
   "metadata": {},
   "outputs": [
    {
     "data": {
      "image/png": "[encoded data removed]",
      "text/plain": [
       "<Figure size 720x432 with 1 Axes>"
      ]
     },
     "metadata": {
      "needs_background": "light"
     },
     "output_type": "display_data"
    }
   ],
   "source": [
    "df_complaints = df['complaint_type'].value_counts()\n",
    "df_complaints.plot(kind='bar', figsize=(10, 6), rot=90) \n",
    "\n",
    "plt.xlabel('Complaints Types')\n",
    "plt.ylabel('Number of Complaints')\n",
    "plt.title('Complaint types Vs. Number of complaints for HPD New York City')\n",
    "\n",
    "for index, value in enumerate(df_complaints): \n",
    "    label = format(int(value), ',') # format int with commas\n",
    "    \n",
    "    # place text at the end of bar (subtracting 0.1 from y to make it fit within the bar)\n",
    "    plt.annotate(label, xy=(index+0.1, value ), color='black', fontsize=8)\n",
    "\n",
    "plt.show()"
   ]
  },
  {
   "cell_type": "code",
   "execution_count": null,
   "metadata": {},
   "outputs": [],
   "source": []
  }
 ],
 "metadata": {
  "kernelspec": {
   "display_name": "Python 3.6",
   "language": "python",
   "name": "python3"
  },
  "language_info": {
   "codemirror_mode": {
    "name": "ipython",
    "version": 3
   },
   "file_extension": ".py",
   "mimetype": "text/x-python",
   "name": "python",
   "nbconvert_exporter": "python",
   "pygments_lexer": "ipython3",
   "version": "3.6.9"
  }
 },
 "nbformat": 4,
 "nbformat_minor": 1
}
