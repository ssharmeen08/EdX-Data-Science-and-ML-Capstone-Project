{
 "cells": [
  {
   "cell_type": "code",
   "execution_count": 20,
   "metadata": {},
   "outputs": [
    {
     "data": {
      "text/html": [
       "<div>\n",
       "<style scoped>\n",
       "    .dataframe tbody tr th:only-of-type {\n",
       "        vertical-align: middle;\n",
       "    }\n",
       "\n",
       "    .dataframe tbody tr th {\n",
       "        vertical-align: top;\n",
       "    }\n",
       "\n",
       "    .dataframe thead th {\n",
       "        text-align: right;\n",
       "    }\n",
       "</style>\n",
       "<table border=\"1\" class=\"dataframe\">\n",
       "  <thead>\n",
       "    <tr style=\"text-align: right;\">\n",
       "      <th></th>\n",
       "      <th>created_date</th>\n",
       "      <th>unique_key</th>\n",
       "      <th>complaint_type</th>\n",
       "      <th>incident_zip</th>\n",
       "      <th>incident_address</th>\n",
       "      <th>street_name</th>\n",
       "      <th>address_type</th>\n",
       "      <th>city</th>\n",
       "      <th>resolution_description</th>\n",
       "      <th>borough</th>\n",
       "      <th>latitude</th>\n",
       "      <th>longitude</th>\n",
       "      <th>closed_date</th>\n",
       "      <th>location_type</th>\n",
       "      <th>status</th>\n",
       "    </tr>\n",
       "  </thead>\n",
       "  <tbody>\n",
       "    <tr>\n",
       "      <th>0</th>\n",
       "      <td>2020-01-28T20:26:11.000</td>\n",
       "      <td>45492325</td>\n",
       "      <td>HEAT/HOT WATER</td>\n",
       "      <td>10462.0</td>\n",
       "      <td>2040 BRONXDALE AVENUE</td>\n",
       "      <td>BRONXDALE AVENUE</td>\n",
       "      <td>ADDRESS</td>\n",
       "      <td>BRONX</td>\n",
       "      <td>The complaint you filed is a duplicate of a co...</td>\n",
       "      <td>BRONX</td>\n",
       "      <td>40.850795</td>\n",
       "      <td>-73.866537</td>\n",
       "      <td>NaN</td>\n",
       "      <td>RESIDENTIAL BUILDING</td>\n",
       "      <td>Open</td>\n",
       "    </tr>\n",
       "    <tr>\n",
       "      <th>1</th>\n",
       "      <td>2020-01-28T15:57:56.000</td>\n",
       "      <td>45493601</td>\n",
       "      <td>UNSANITARY CONDITION</td>\n",
       "      <td>11368.0</td>\n",
       "      <td>55-02 98 STREET</td>\n",
       "      <td>98 STREET</td>\n",
       "      <td>ADDRESS</td>\n",
       "      <td>Corona</td>\n",
       "      <td>The following complaint conditions are still o...</td>\n",
       "      <td>QUEENS</td>\n",
       "      <td>40.738846</td>\n",
       "      <td>-73.862785</td>\n",
       "      <td>NaN</td>\n",
       "      <td>RESIDENTIAL BUILDING</td>\n",
       "      <td>Open</td>\n",
       "    </tr>\n",
       "    <tr>\n",
       "      <th>2</th>\n",
       "      <td>2020-01-28T04:49:03.000</td>\n",
       "      <td>45494360</td>\n",
       "      <td>HEAT/HOT WATER</td>\n",
       "      <td>11225.0</td>\n",
       "      <td>181 HAWTHORNE STREET</td>\n",
       "      <td>HAWTHORNE STREET</td>\n",
       "      <td>ADDRESS</td>\n",
       "      <td>BROOKLYN</td>\n",
       "      <td>The Department of Housing Preservation and Dev...</td>\n",
       "      <td>BROOKLYN</td>\n",
       "      <td>40.657592</td>\n",
       "      <td>-73.954469</td>\n",
       "      <td>2020-01-28T21:37:27.000</td>\n",
       "      <td>RESIDENTIAL BUILDING</td>\n",
       "      <td>Closed</td>\n",
       "    </tr>\n",
       "    <tr>\n",
       "      <th>3</th>\n",
       "      <td>2020-01-28T18:07:16.000</td>\n",
       "      <td>45493438</td>\n",
       "      <td>PLUMBING</td>\n",
       "      <td>10454.0</td>\n",
       "      <td>514 EAST  138 STREET</td>\n",
       "      <td>EAST  138 STREET</td>\n",
       "      <td>ADDRESS</td>\n",
       "      <td>BRONX</td>\n",
       "      <td>The following complaint conditions are still o...</td>\n",
       "      <td>BRONX</td>\n",
       "      <td>40.807416</td>\n",
       "      <td>-73.918919</td>\n",
       "      <td>NaN</td>\n",
       "      <td>RESIDENTIAL BUILDING</td>\n",
       "      <td>Open</td>\n",
       "    </tr>\n",
       "    <tr>\n",
       "      <th>4</th>\n",
       "      <td>2020-01-28T14:10:04.000</td>\n",
       "      <td>45492347</td>\n",
       "      <td>HEAT/HOT WATER</td>\n",
       "      <td>10463.0</td>\n",
       "      <td>2800 BAILEY AVENUE</td>\n",
       "      <td>BAILEY AVENUE</td>\n",
       "      <td>ADDRESS</td>\n",
       "      <td>BRONX</td>\n",
       "      <td>The complaint you filed is a duplicate of a co...</td>\n",
       "      <td>BRONX</td>\n",
       "      <td>40.873356</td>\n",
       "      <td>-73.905554</td>\n",
       "      <td>NaN</td>\n",
       "      <td>RESIDENTIAL BUILDING</td>\n",
       "      <td>Open</td>\n",
       "    </tr>\n",
       "  </tbody>\n",
       "</table>\n",
       "</div>"
      ],
      "text/plain": [
       "              created_date  unique_key        complaint_type  incident_zip  \\\n",
       "0  2020-01-28T20:26:11.000    45492325        HEAT/HOT WATER       10462.0   \n",
       "1  2020-01-28T15:57:56.000    45493601  UNSANITARY CONDITION       11368.0   \n",
       "2  2020-01-28T04:49:03.000    45494360        HEAT/HOT WATER       11225.0   \n",
       "3  2020-01-28T18:07:16.000    45493438              PLUMBING       10454.0   \n",
       "4  2020-01-28T14:10:04.000    45492347        HEAT/HOT WATER       10463.0   \n",
       "\n",
       "        incident_address       street_name address_type      city  \\\n",
       "0  2040 BRONXDALE AVENUE  BRONXDALE AVENUE      ADDRESS     BRONX   \n",
       "1        55-02 98 STREET         98 STREET      ADDRESS    Corona   \n",
       "2   181 HAWTHORNE STREET  HAWTHORNE STREET      ADDRESS  BROOKLYN   \n",
       "3   514 EAST  138 STREET  EAST  138 STREET      ADDRESS     BRONX   \n",
       "4     2800 BAILEY AVENUE     BAILEY AVENUE      ADDRESS     BRONX   \n",
       "\n",
       "                              resolution_description   borough   latitude  \\\n",
       "0  The complaint you filed is a duplicate of a co...     BRONX  40.850795   \n",
       "1  The following complaint conditions are still o...    QUEENS  40.738846   \n",
       "2  The Department of Housing Preservation and Dev...  BROOKLYN  40.657592   \n",
       "3  The following complaint conditions are still o...     BRONX  40.807416   \n",
       "4  The complaint you filed is a duplicate of a co...     BRONX  40.873356   \n",
       "\n",
       "   longitude              closed_date         location_type  status  \n",
       "0 -73.866537                      NaN  RESIDENTIAL BUILDING    Open  \n",
       "1 -73.862785                      NaN  RESIDENTIAL BUILDING    Open  \n",
       "2 -73.954469  2020-01-28T21:37:27.000  RESIDENTIAL BUILDING  Closed  \n",
       "3 -73.918919                      NaN  RESIDENTIAL BUILDING    Open  \n",
       "4 -73.905554                      NaN  RESIDENTIAL BUILDING    Open  "
      ]
     },
     "execution_count": 20,
     "metadata": {},
     "output_type": "execute_result"
    }
   ],
   "source": [
    "#Should the Department of Housing Preservation and Development of New York City focus on any particular set of boroughs, ZIP codes, or \n",
    "#street (where the complaints are severe) for the specific type of complaints you identified in response to Question 1?\n",
    "\n",
    "\n",
    "import types\n",
    "import pandas as pd\n",
    "import matplotlib as mpl\n",
    "import matplotlib.pyplot as plt\n",
    "\n",
    "\n",
    "df_data_1 = pd.read_csv('./NYC311data.csv')\n",
    "df_data_1.head()\n"
   ]
  },
  {
   "cell_type": "code",
   "execution_count": 6,
   "metadata": {},
   "outputs": [
    {
     "name": "stdout",
     "output_type": "stream",
     "text": [
      "(1000000, 15)\n"
     ]
    },
    {
     "data": {
      "text/html": [
       "<div>\n",
       "<style scoped>\n",
       "    .dataframe tbody tr th:only-of-type {\n",
       "        vertical-align: middle;\n",
       "    }\n",
       "\n",
       "    .dataframe tbody tr th {\n",
       "        vertical-align: top;\n",
       "    }\n",
       "\n",
       "    .dataframe thead th {\n",
       "        text-align: right;\n",
       "    }\n",
       "</style>\n",
       "<table border=\"1\" class=\"dataframe\">\n",
       "  <thead>\n",
       "    <tr style=\"text-align: right;\">\n",
       "      <th></th>\n",
       "      <th>complaint_type</th>\n",
       "      <th>borough</th>\n",
       "      <th>street_name</th>\n",
       "      <th>incident_zip</th>\n",
       "    </tr>\n",
       "  </thead>\n",
       "  <tbody>\n",
       "    <tr>\n",
       "      <th>0</th>\n",
       "      <td>HEAT/HOT WATER</td>\n",
       "      <td>BRONX</td>\n",
       "      <td>BRONXDALE AVENUE</td>\n",
       "      <td>10462.0</td>\n",
       "    </tr>\n",
       "    <tr>\n",
       "      <th>1</th>\n",
       "      <td>UNSANITARY CONDITION</td>\n",
       "      <td>QUEENS</td>\n",
       "      <td>98 STREET</td>\n",
       "      <td>11368.0</td>\n",
       "    </tr>\n",
       "    <tr>\n",
       "      <th>2</th>\n",
       "      <td>HEAT/HOT WATER</td>\n",
       "      <td>BROOKLYN</td>\n",
       "      <td>HAWTHORNE STREET</td>\n",
       "      <td>11225.0</td>\n",
       "    </tr>\n",
       "    <tr>\n",
       "      <th>3</th>\n",
       "      <td>PLUMBING</td>\n",
       "      <td>BRONX</td>\n",
       "      <td>EAST  138 STREET</td>\n",
       "      <td>10454.0</td>\n",
       "    </tr>\n",
       "    <tr>\n",
       "      <th>4</th>\n",
       "      <td>HEAT/HOT WATER</td>\n",
       "      <td>BRONX</td>\n",
       "      <td>BAILEY AVENUE</td>\n",
       "      <td>10463.0</td>\n",
       "    </tr>\n",
       "  </tbody>\n",
       "</table>\n",
       "</div>"
      ],
      "text/plain": [
       "         complaint_type   borough       street_name  incident_zip\n",
       "0        HEAT/HOT WATER     BRONX  BRONXDALE AVENUE       10462.0\n",
       "1  UNSANITARY CONDITION    QUEENS         98 STREET       11368.0\n",
       "2        HEAT/HOT WATER  BROOKLYN  HAWTHORNE STREET       11225.0\n",
       "3              PLUMBING     BRONX  EAST  138 STREET       10454.0\n",
       "4        HEAT/HOT WATER     BRONX     BAILEY AVENUE       10463.0"
      ]
     },
     "execution_count": 6,
     "metadata": {},
     "output_type": "execute_result"
    }
   ],
   "source": [
    "# print the dimensions of the dataframe\n",
    "print(df_data_1.shape)\n",
    "\n",
    "# In Question 1, we found that HEAT/HOT Water is the most occurred complaint type. We will create a new dataset containing complaint_type, \n",
    "# borough, zip code and street. \n",
    "\n",
    "df_selected = df_data_1[[\"complaint_type\", \"borough\", \"street_name\", \"incident_zip\"]]\n",
    "df_selected.head()"
   ]
  },
  {
   "cell_type": "code",
   "execution_count": 9,
   "metadata": {},
   "outputs": [
    {
     "data": {
      "text/html": [
       "<div>\n",
       "<style scoped>\n",
       "    .dataframe tbody tr th:only-of-type {\n",
       "        vertical-align: middle;\n",
       "    }\n",
       "\n",
       "    .dataframe tbody tr th {\n",
       "        vertical-align: top;\n",
       "    }\n",
       "\n",
       "    .dataframe thead th {\n",
       "        text-align: right;\n",
       "    }\n",
       "</style>\n",
       "<table border=\"1\" class=\"dataframe\">\n",
       "  <thead>\n",
       "    <tr style=\"text-align: right;\">\n",
       "      <th></th>\n",
       "      <th>complaint_type</th>\n",
       "      <th>borough</th>\n",
       "      <th>street_name</th>\n",
       "      <th>incident_zip</th>\n",
       "    </tr>\n",
       "  </thead>\n",
       "  <tbody>\n",
       "    <tr>\n",
       "      <th>0</th>\n",
       "      <td>HEAT/HOT WATER</td>\n",
       "      <td>BRONX</td>\n",
       "      <td>BRONXDALE AVENUE</td>\n",
       "      <td>10462.0</td>\n",
       "    </tr>\n",
       "    <tr>\n",
       "      <th>2</th>\n",
       "      <td>HEAT/HOT WATER</td>\n",
       "      <td>BROOKLYN</td>\n",
       "      <td>HAWTHORNE STREET</td>\n",
       "      <td>11225.0</td>\n",
       "    </tr>\n",
       "    <tr>\n",
       "      <th>4</th>\n",
       "      <td>HEAT/HOT WATER</td>\n",
       "      <td>BRONX</td>\n",
       "      <td>BAILEY AVENUE</td>\n",
       "      <td>10463.0</td>\n",
       "    </tr>\n",
       "    <tr>\n",
       "      <th>5</th>\n",
       "      <td>HEAT/HOT WATER</td>\n",
       "      <td>BROOKLYN</td>\n",
       "      <td>BEDFORD AVENUE</td>\n",
       "      <td>11225.0</td>\n",
       "    </tr>\n",
       "    <tr>\n",
       "      <th>6</th>\n",
       "      <td>HEAT/HOT WATER</td>\n",
       "      <td>BROOKLYN</td>\n",
       "      <td>BEVERLY ROAD</td>\n",
       "      <td>11226.0</td>\n",
       "    </tr>\n",
       "  </tbody>\n",
       "</table>\n",
       "</div>"
      ],
      "text/plain": [
       "   complaint_type   borough       street_name  incident_zip\n",
       "0  HEAT/HOT WATER     BRONX  BRONXDALE AVENUE       10462.0\n",
       "2  HEAT/HOT WATER  BROOKLYN  HAWTHORNE STREET       11225.0\n",
       "4  HEAT/HOT WATER     BRONX     BAILEY AVENUE       10463.0\n",
       "5  HEAT/HOT WATER  BROOKLYN    BEDFORD AVENUE       11225.0\n",
       "6  HEAT/HOT WATER  BROOKLYN      BEVERLY ROAD       11226.0"
      ]
     },
     "execution_count": 9,
     "metadata": {},
     "output_type": "execute_result"
    }
   ],
   "source": [
    "#check if there are NaN variables\n",
    "df_selected.isnull().sum()\n",
    "\n",
    "# drop all the complaint_types except Heat/HOT Water\n",
    "df_selected = df_selected[df_selected.complaint_type == \"HEAT/HOT WATER\"].dropna()\n",
    "df_selected.head()\n"
   ]
  },
  {
   "cell_type": "code",
   "execution_count": 10,
   "metadata": {},
   "outputs": [
    {
     "data": {
      "text/plain": [
       "complaint_type    0\n",
       "borough           0\n",
       "street_name       0\n",
       "incident_zip      0\n",
       "dtype: int64"
      ]
     },
     "execution_count": 10,
     "metadata": {},
     "output_type": "execute_result"
    }
   ],
   "source": [
    "df_selected.isnull().sum()\n"
   ]
  },
  {
   "cell_type": "code",
   "execution_count": 22,
   "metadata": {},
   "outputs": [
    {
     "data": {
      "text/html": [
       "<div>\n",
       "<style scoped>\n",
       "    .dataframe tbody tr th:only-of-type {\n",
       "        vertical-align: middle;\n",
       "    }\n",
       "\n",
       "    .dataframe tbody tr th {\n",
       "        vertical-align: top;\n",
       "    }\n",
       "\n",
       "    .dataframe thead th {\n",
       "        text-align: right;\n",
       "    }\n",
       "</style>\n",
       "<table border=\"1\" class=\"dataframe\">\n",
       "  <thead>\n",
       "    <tr style=\"text-align: right;\">\n",
       "      <th></th>\n",
       "      <th>incident_zip</th>\n",
       "    </tr>\n",
       "    <tr>\n",
       "      <th>borough</th>\n",
       "      <th></th>\n",
       "    </tr>\n",
       "  </thead>\n",
       "  <tbody>\n",
       "    <tr>\n",
       "      <th>BRONX</th>\n",
       "      <td>355454821.0</td>\n",
       "    </tr>\n",
       "    <tr>\n",
       "      <th>BROOKLYN</th>\n",
       "      <td>332127940.0</td>\n",
       "    </tr>\n",
       "    <tr>\n",
       "      <th>MANHATTAN</th>\n",
       "      <td>231794819.0</td>\n",
       "    </tr>\n",
       "    <tr>\n",
       "      <th>QUEENS</th>\n",
       "      <td>168919381.0</td>\n",
       "    </tr>\n",
       "    <tr>\n",
       "      <th>STATEN ISLAND</th>\n",
       "      <td>9253835.0</td>\n",
       "    </tr>\n",
       "  </tbody>\n",
       "</table>\n",
       "</div>"
      ],
      "text/plain": [
       "               incident_zip\n",
       "borough                    \n",
       "BRONX           355454821.0\n",
       "BROOKLYN        332127940.0\n",
       "MANHATTAN       231794819.0\n",
       "QUEENS          168919381.0\n",
       "STATEN ISLAND     9253835.0"
      ]
     },
     "execution_count": 22,
     "metadata": {},
     "output_type": "execute_result"
    }
   ],
   "source": [
    "# group complaint_type by borough and apply sum() function \n",
    "df_borough = df_selected.groupby('borough').sum()\n",
    "df_borough.head()"
   ]
  },
  {
   "cell_type": "code",
   "execution_count": 26,
   "metadata": {},
   "outputs": [
    {
     "data": {
      "image/png": "[encoded data removed]",
      "text/plain": [
       "<Figure size 1080x432 with 1 Axes>"
      ]
     },
     "metadata": {},
     "output_type": "display_data"
    }
   ],
   "source": [
    "colors_list = ['gold', 'yellowgreen', 'lightcoral', 'lightskyblue', 'lightgreen']\n",
    "explode_list = [0.1, 0, 0, 0, 0.1] # ratio for each continent with which to offset each wedge.\n",
    "\n",
    "df_borough['incident_zip'].plot(kind='pie',\n",
    "                            figsize=(15, 6),\n",
    "                            autopct='%1.1f%%', \n",
    "                            startangle=90,    \n",
    "                            shadow=True,       \n",
    "                            labels=None,         # turn off labels on pie chart\n",
    "                            pctdistance=1.12,    # the ratio between the center of each pie slice and the start of the text generated by autopct \n",
    "                            colors=colors_list,  # add custom colors\n",
    "                            explode=explode_list # 'explode' lowest 3 continents\n",
    "                            )\n",
    "\n",
    "# scale the title up by 12% to match pctdistance\n",
    "plt.title('Heat/Hot Water complaint types by Borough', y=1.12) \n",
    "\n",
    "plt.axis('equal') \n",
    "\n",
    "# add legend\n",
    "plt.legend(labels=df_borough.index, loc='upper right') \n",
    "\n",
    "plt.show()"
   ]
  },
  {
   "cell_type": "code",
   "execution_count": 28,
   "metadata": {},
   "outputs": [
    {
     "data": {
      "image/png": "[encoded data removed]",
      "text/plain": [
       "<Figure size 864x432 with 1 Axes>"
      ]
     },
     "metadata": {
      "needs_background": "light"
     },
     "output_type": "display_data"
    }
   ],
   "source": [
    "# To plot total number of Heat/Hot Water complaints by borough:\n",
    "df_selected[\"borough\"].value_counts().plot(kind='bar', figsize=(12, 6))\n",
    "\n",
    "plt.xlabel('Borough Name') # add to x-label to the plot\n",
    "plt.ylabel('Number of Complaints') # add y-label to the plot\n",
    "plt.title('HEAT/HOT WATER complaints by Borough') # add title to the plot\n",
    "\n",
    "plt.show()"
   ]
  },
  {
   "cell_type": "code",
   "execution_count": 30,
   "metadata": {},
   "outputs": [
    {
     "data": {
      "image/png": "[encoded data removed]",
      "text/plain": [
       "<Figure size 864x432 with 1 Axes>"
      ]
     },
     "metadata": {
      "needs_background": "light"
     },
     "output_type": "display_data"
    }
   ],
   "source": [
    "# To determine the total number of complaints at the Street level:\n",
    "df_selected[\"street_name\"].value_counts().head(20).plot(kind='bar', figsize=(12, 6))\n",
    "\n",
    "plt.xlabel('Street Name') # add to x-label to the plot\n",
    "plt.ylabel('Number of Complaints') # add y-label to the plot\n",
    "plt.title('HEAT/HOT WATER complaints by Street') # add title to the plot\n",
    "plt.show()"
   ]
  },
  {
   "cell_type": "code",
   "execution_count": 31,
   "metadata": {},
   "outputs": [
    {
     "data": {
      "text/html": [
       "<div>\n",
       "<style scoped>\n",
       "    .dataframe tbody tr th:only-of-type {\n",
       "        vertical-align: middle;\n",
       "    }\n",
       "\n",
       "    .dataframe tbody tr th {\n",
       "        vertical-align: top;\n",
       "    }\n",
       "\n",
       "    .dataframe thead th {\n",
       "        text-align: right;\n",
       "    }\n",
       "</style>\n",
       "<table border=\"1\" class=\"dataframe\">\n",
       "  <thead>\n",
       "    <tr style=\"text-align: right;\">\n",
       "      <th></th>\n",
       "      <th>complaint_type</th>\n",
       "      <th>borough</th>\n",
       "      <th>street_name</th>\n",
       "      <th>incident_zip</th>\n",
       "    </tr>\n",
       "  </thead>\n",
       "  <tbody>\n",
       "    <tr>\n",
       "      <th>69</th>\n",
       "      <td>HEAT/HOT WATER</td>\n",
       "      <td>BRONX</td>\n",
       "      <td>GRAND CONCOURSE</td>\n",
       "      <td>10468.0</td>\n",
       "    </tr>\n",
       "    <tr>\n",
       "      <th>73</th>\n",
       "      <td>HEAT/HOT WATER</td>\n",
       "      <td>BRONX</td>\n",
       "      <td>GRAND CONCOURSE</td>\n",
       "      <td>10453.0</td>\n",
       "    </tr>\n",
       "    <tr>\n",
       "      <th>75</th>\n",
       "      <td>HEAT/HOT WATER</td>\n",
       "      <td>BRONX</td>\n",
       "      <td>GRAND CONCOURSE</td>\n",
       "      <td>10457.0</td>\n",
       "    </tr>\n",
       "    <tr>\n",
       "      <th>126</th>\n",
       "      <td>HEAT/HOT WATER</td>\n",
       "      <td>BRONX</td>\n",
       "      <td>GRAND CONCOURSE</td>\n",
       "      <td>10458.0</td>\n",
       "    </tr>\n",
       "    <tr>\n",
       "      <th>271</th>\n",
       "      <td>HEAT/HOT WATER</td>\n",
       "      <td>BRONX</td>\n",
       "      <td>GRAND CONCOURSE</td>\n",
       "      <td>10452.0</td>\n",
       "    </tr>\n",
       "  </tbody>\n",
       "</table>\n",
       "</div>"
      ],
      "text/plain": [
       "     complaint_type borough      street_name  incident_zip\n",
       "69   HEAT/HOT WATER   BRONX  GRAND CONCOURSE       10468.0\n",
       "73   HEAT/HOT WATER   BRONX  GRAND CONCOURSE       10453.0\n",
       "75   HEAT/HOT WATER   BRONX  GRAND CONCOURSE       10457.0\n",
       "126  HEAT/HOT WATER   BRONX  GRAND CONCOURSE       10458.0\n",
       "271  HEAT/HOT WATER   BRONX  GRAND CONCOURSE       10452.0"
      ]
     },
     "execution_count": 31,
     "metadata": {},
     "output_type": "execute_result"
    }
   ],
   "source": [
    "# Grand Concourse is the street where most complaints occurred, To find Grand Concourse is in which Borough:\n",
    "df_selected.loc[df_selected['street_name'] == \"GRAND CONCOURSE\"].head()"
   ]
  },
  {
   "cell_type": "code",
   "execution_count": null,
   "metadata": {},
   "outputs": [],
   "source": [
    "#Conclusion:\n",
    "#Severely affected borough with Heat/Hot Water complaints is Bronx.\n",
    "#Grand Concourse is the street in Bronx where most complaints occurred."
   ]
  }
 ],
 "metadata": {
  "kernelspec": {
   "display_name": "Python 3.6",
   "language": "python",
   "name": "python3"
  },
  "language_info": {
   "codemirror_mode": {
    "name": "ipython",
    "version": 3
   },
   "file_extension": ".py",
   "mimetype": "text/x-python",
   "name": "python",
   "nbconvert_exporter": "python",
   "pygments_lexer": "ipython3",
   "version": "3.6.9"
  }
 },
 "nbformat": 4,
 "nbformat_minor": 1
}
